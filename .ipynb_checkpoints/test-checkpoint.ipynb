{
 "cells": [
  {
   "cell_type": "code",
   "execution_count": 12,
   "metadata": {},
   "outputs": [],
   "source": [
    "import sys\n",
    "from PIL import Image\n",
    "import numpy as np\n",
    "from music21 import instrument, note, chord, stream\n",
    "import cv2"
   ]
  },
  {
   "cell_type": "code",
   "execution_count": 13,
   "metadata": {},
   "outputs": [],
   "source": [
    "img = Image.open(\"Amily.png\")"
   ]
  },
  {
   "cell_type": "code",
   "execution_count": 14,
   "metadata": {},
   "outputs": [],
   "source": [
    "img = cv2.resize(np.array(img), (106, 100))"
   ]
  },
  {
   "cell_type": "code",
   "execution_count": 15,
   "metadata": {},
   "outputs": [],
   "source": [
    "image = Image.fromarray(img)"
   ]
  },
  {
   "cell_type": "code",
   "execution_count": 16,
   "metadata": {},
   "outputs": [
    {
     "data": {
      "image/png": "[encoded data removed]",
      "text/plain": [
       "<PIL.Image.Image image mode=RGB size=106x100 at 0x7FE8508320D0>"
      ]
     },
     "execution_count": 16,
     "metadata": {},
     "output_type": "execute_result"
    }
   ],
   "source": [
    "image"
   ]
  },
  {
   "cell_type": "code",
   "execution_count": 30,
   "metadata": {},
   "outputs": [],
   "source": [
    "im_arr = np.frombuffer(image.tobytes(), dtype=np.uint8)"
   ]
  },
  {
   "cell_type": "code",
   "execution_count": 31,
   "metadata": {},
   "outputs": [
    {
     "data": {
      "text/plain": [
       "array([229, 156,  54, ..., 239, 167,  69], dtype=uint8)"
      ]
     },
     "execution_count": 31,
     "metadata": {},
     "output_type": "execute_result"
    }
   ],
   "source": [
    "im_arr"
   ]
  },
  {
   "cell_type": "code",
   "execution_count": 32,
   "metadata": {},
   "outputs": [
    {
     "data": {
      "text/plain": [
       "31800"
      ]
     },
     "execution_count": 32,
     "metadata": {},
     "output_type": "execute_result"
    }
   ],
   "source": [
    "im_arr.size"
   ]
  },
  {
   "cell_type": "code",
   "execution_count": 33,
   "metadata": {},
   "outputs": [
    {
     "data": {
      "text/plain": [
       "(106, 100)"
      ]
     },
     "execution_count": 33,
     "metadata": {},
     "output_type": "execute_result"
    }
   ],
   "source": [
    "image.size"
   ]
  },
  {
   "cell_type": "code",
   "execution_count": 35,
   "metadata": {},
   "outputs": [],
   "source": [
    "im_arr = im_arr.reshape((image.size[1], image.size[0], 3))"
   ]
  },
  {
   "cell_type": "code",
   "execution_count": 36,
   "metadata": {
    "scrolled": true
   },
   "outputs": [
    {
     "data": {
      "text/plain": [
       "array([[[229, 156,  54],\n",
       "        [241, 168,  66],\n",
       "        [222, 149,  47],\n",
       "        ...,\n",
       "        [243, 169,  70],\n",
       "        [243, 169,  70],\n",
       "        [243, 169,  70]],\n",
       "\n",
       "       [[247, 174,  72],\n",
       "        [231, 158,  56],\n",
       "        [222, 149,  47],\n",
       "        ...,\n",
       "        [243, 169,  70],\n",
       "        [243, 169,  70],\n",
       "        [243, 169,  70]],\n",
       "\n",
       "       [[232, 159,  57],\n",
       "        [220, 147,  45],\n",
       "        [219, 146,  44],\n",
       "        ...,\n",
       "        [243, 169,  70],\n",
       "        [243, 169,  70],\n",
       "        [243, 169,  70]],\n",
       "\n",
       "       ...,\n",
       "\n",
       "       [[228, 155,  53],\n",
       "        [228, 155,  53],\n",
       "        [228, 155,  53],\n",
       "        ...,\n",
       "        [239, 167,  69],\n",
       "        [239, 167,  69],\n",
       "        [239, 167,  69]],\n",
       "\n",
       "       [[228, 154,  55],\n",
       "        [228, 154,  55],\n",
       "        [228, 154,  55],\n",
       "        ...,\n",
       "        [239, 167,  69],\n",
       "        [239, 167,  69],\n",
       "        [239, 167,  69]],\n",
       "\n",
       "       [[232, 160,  58],\n",
       "        [232, 160,  58],\n",
       "        [229, 157,  55],\n",
       "        ...,\n",
       "        [239, 167,  69],\n",
       "        [239, 167,  69],\n",
       "        [239, 167,  69]]], dtype=uint8)"
      ]
     },
     "execution_count": 36,
     "metadata": {},
     "output_type": "execute_result"
    }
   ],
   "source": [
    "im_arr"
   ]
  },
  {
   "cell_type": "code",
   "execution_count": 37,
   "metadata": {},
   "outputs": [
    {
     "data": {
      "text/plain": [
       "31800"
      ]
     },
     "execution_count": 37,
     "metadata": {},
     "output_type": "execute_result"
    }
   ],
   "source": [
    "im_arr.size"
   ]
  },
  {
   "cell_type": "code",
   "execution_count": 38,
   "metadata": {},
   "outputs": [],
   "source": [
    "im_arr = np.dot(im_arr, [0.33, 0.33, 0.33])"
   ]
  },
  {
   "cell_type": "code",
   "execution_count": 39,
   "metadata": {},
   "outputs": [
    {
     "data": {
      "text/plain": [
       "array([[144.87, 156.75, 137.94, ..., 159.06, 159.06, 159.06],\n",
       "       [162.69, 146.85, 137.94, ..., 159.06, 159.06, 159.06],\n",
       "       [147.84, 135.96, 134.97, ..., 159.06, 159.06, 159.06],\n",
       "       ...,\n",
       "       [143.88, 143.88, 143.88, ..., 156.75, 156.75, 156.75],\n",
       "       [144.21, 144.21, 144.21, ..., 156.75, 156.75, 156.75],\n",
       "       [148.5 , 148.5 , 145.53, ..., 156.75, 156.75, 156.75]])"
      ]
     },
     "execution_count": 39,
     "metadata": {},
     "output_type": "execute_result"
    }
   ],
   "source": [
    "im_arr"
   ]
  },
  {
   "cell_type": "code",
   "execution_count": 40,
   "metadata": {},
   "outputs": [
    {
     "data": {
      "text/plain": [
       "10600"
      ]
     },
     "execution_count": 40,
     "metadata": {},
     "output_type": "execute_result"
    }
   ],
   "source": [
    "im_arr.size"
   ]
  },
  {
   "cell_type": "code",
   "execution_count": 45,
   "metadata": {},
   "outputs": [
    {
     "data": {
      "text/plain": [
       "array([[144.87, 162.69, 147.84, ..., 143.88, 144.21, 148.5 ],\n",
       "       [156.75, 146.85, 135.96, ..., 143.88, 144.21, 148.5 ],\n",
       "       [137.94, 137.94, 134.97, ..., 143.88, 144.21, 145.53],\n",
       "       ...,\n",
       "       [159.06, 159.06, 159.06, ..., 156.75, 156.75, 156.75],\n",
       "       [159.06, 159.06, 159.06, ..., 156.75, 156.75, 156.75],\n",
       "       [159.06, 159.06, 159.06, ..., 156.75, 156.75, 156.75]])"
      ]
     },
     "execution_count": 45,
     "metadata": {},
     "output_type": "execute_result"
    }
   ],
   "source": [
    "im_arr.T"
   ]
  },
  {
   "cell_type": "code",
   "execution_count": 46,
   "metadata": {},
   "outputs": [
    {
     "data": {
      "text/plain": [
       "array([144.87, 162.69, 147.84, 148.83, 144.87, 135.96, 141.24, 142.23,\n",
       "       142.23, 142.23, 142.23, 143.22, 140.25, 136.95, 127.05, 136.95,\n",
       "       135.96, 134.97, 137.94, 150.81, 129.03, 151.8 , 135.96, 135.96,\n",
       "       140.91, 157.74, 158.07, 158.07, 158.07, 158.07, 158.07, 157.74,\n",
       "       157.08, 156.42, 156.42, 156.42, 156.42, 156.42, 156.42, 156.42,\n",
       "       156.42, 156.42, 156.42, 156.42, 156.42, 156.42, 156.42, 156.42,\n",
       "       156.42, 156.42, 156.42, 155.43, 155.43, 155.43, 155.43, 155.43,\n",
       "       155.43, 154.44, 153.12, 153.12, 153.12, 153.12, 153.12, 152.79,\n",
       "       155.43, 155.43, 155.43, 155.43, 155.43, 155.43, 155.43, 155.43,\n",
       "       155.43, 154.44, 153.12, 153.12, 152.13, 152.13, 152.13, 152.13,\n",
       "       152.13, 152.13, 152.13, 152.13, 153.12, 154.44, 155.43, 154.77,\n",
       "       152.13, 152.13, 153.12, 155.43, 152.46, 147.51, 144.21, 143.88,\n",
       "       143.88, 143.88, 144.21, 148.5 ])"
      ]
     },
     "execution_count": 46,
     "metadata": {},
     "output_type": "execute_result"
    }
   ],
   "source": [
    "im_arr.T[0, :]"
   ]
  },
  {
   "cell_type": "code",
   "execution_count": 47,
   "metadata": {},
   "outputs": [
    {
     "data": {
      "text/plain": [
       "array([156.75, 146.85, 135.96, 144.87, 141.9 , 136.95, 142.23, 142.23,\n",
       "       142.23, 142.23, 142.23, 142.23, 139.26, 138.93, 124.08, 149.82,\n",
       "       133.98, 141.9 , 135.96, 141.9 , 130.02, 136.95, 132.  , 136.95,\n",
       "       143.88, 156.75, 158.07, 158.07, 158.07, 158.07, 158.07, 157.74,\n",
       "       157.08, 156.42, 156.42, 156.42, 156.42, 156.42, 156.42, 156.42,\n",
       "       156.42, 156.42, 156.42, 156.42, 156.42, 156.42, 156.42, 156.42,\n",
       "       156.42, 156.42, 156.42, 155.43, 155.43, 155.43, 155.43, 155.43,\n",
       "       155.43, 154.44, 153.12, 153.12, 153.12, 153.12, 153.12, 152.79,\n",
       "       155.43, 155.43, 155.43, 155.43, 155.43, 155.43, 155.43, 155.43,\n",
       "       155.43, 154.44, 153.12, 153.12, 152.13, 152.13, 152.13, 152.13,\n",
       "       152.13, 152.13, 152.13, 152.13, 153.12, 154.44, 155.43, 154.77,\n",
       "       152.13, 152.13, 153.12, 155.43, 152.46, 147.51, 144.21, 143.88,\n",
       "       143.88, 143.88, 144.21, 148.5 ])"
      ]
     },
     "execution_count": 47,
     "metadata": {},
     "output_type": "execute_result"
    }
   ],
   "source": [
    "im_arr.T[1, :]"
   ]
  },
  {
   "cell_type": "code",
   "execution_count": 48,
   "metadata": {},
   "outputs": [
    {
     "data": {
      "text/plain": [
       "array([[156.75, 146.85, 135.96, ..., 143.88, 144.21, 148.5 ],\n",
       "       [137.94, 137.94, 134.97, ..., 143.88, 144.21, 145.53],\n",
       "       [144.87, 148.83, 140.91, ..., 144.21, 145.86, 149.82],\n",
       "       ...,\n",
       "       [159.06, 159.06, 159.06, ..., 156.75, 156.75, 156.75],\n",
       "       [159.06, 159.06, 159.06, ..., 156.75, 156.75, 156.75],\n",
       "       [159.06, 159.06, 159.06, ..., 156.75, 156.75, 156.75]])"
      ]
     },
     "execution_count": 48,
     "metadata": {},
     "output_type": "execute_result"
    }
   ],
   "source": [
    "im_arr.T[1:, :]"
   ]
  },
  {
   "cell_type": "code",
   "execution_count": 52,
   "metadata": {},
   "outputs": [
    {
     "name": "stdout",
     "output_type": "stream",
     "text": [
      "{144.87: 0.25, 162.69: 0.25, 147.84: 0.25, 148.82999999999998: 0.25, 135.96: 0.25, 141.24: 0.25, 142.23: 0.25, 143.22: 0.25, 140.25: 0.25, 136.95000000000002: 0.25, 127.05000000000001: 0.25, 134.97000000000003: 0.25, 137.94: 0.25, 150.81000000000003: 0.25, 129.03: 0.25, 151.8: 0.25, 140.91: 0.25, 157.74: 0.25, 158.07: 0.25, 157.08: 0.25, 156.42000000000002: 0.25, 155.43: 0.25, 154.44: 0.25, 153.12: 0.25, 152.79000000000002: 0.25, 152.13: 0.25, 154.77: 0.25, 152.46: 0.25, 147.51000000000002: 0.25, 144.21: 0.25, 143.88000000000002: 0.25, 148.5: 0.25}\n"
     ]
    }
   ],
   "source": [
    "res = {}\n",
    "for i in im_arr.T[0, :]:\n",
    "    res[i]= 0.25\n",
    "print(res)"
   ]
  },
  {
   "cell_type": "code",
   "execution_count": null,
   "metadata": {},
   "outputs": [],
   "source": [
    "for i in [1,2,3,4,5]:\n",
    "    print(i)"
   ]
  }
 ],
 "metadata": {
  "kernelspec": {
   "display_name": "Python 3",
   "language": "python",
   "name": "python3"
  },
  "language_info": {
   "codemirror_mode": {
    "name": "ipython",
    "version": 3
   },
   "file_extension": ".py",
   "mimetype": "text/x-python",
   "name": "python",
   "nbconvert_exporter": "python",
   "pygments_lexer": "ipython3",
   "version": "3.8.3"
  }
 },
 "nbformat": 4,
 "nbformat_minor": 4
}
